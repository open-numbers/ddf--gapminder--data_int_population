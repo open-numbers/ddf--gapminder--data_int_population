{
 "cells": [
  {
   "cell_type": "code",
   "execution_count": 1,
   "metadata": {
    "collapsed": true
   },
   "outputs": [],
   "source": [
    "import pandas as pd\n",
    "import os"
   ]
  },
  {
   "cell_type": "code",
   "execution_count": 3,
   "metadata": {
    "collapsed": false
   },
   "outputs": [],
   "source": [
    "%load_ext autoreload"
   ]
  },
  {
   "cell_type": "code",
   "execution_count": 8,
   "metadata": {
    "collapsed": false
   },
   "outputs": [],
   "source": [
    "%aimport ddf_utils.ddf_reader\n",
    "\n",
    "import ddf_utils.ddf_reader as dr"
   ]
  },
  {
   "cell_type": "code",
   "execution_count": 9,
   "metadata": {
    "collapsed": true
   },
   "outputs": [],
   "source": [
    "dr.SEARCH_PATH = '../../../'"
   ]
  },
  {
   "cell_type": "code",
   "execution_count": 10,
   "metadata": {
    "collapsed": true
   },
   "outputs": [],
   "source": [
    "p1 = dr.ddf_datapoint('ddf--gapminder--hist_pop', 'total_population')"
   ]
  },
  {
   "cell_type": "code",
   "execution_count": 11,
   "metadata": {
    "collapsed": false
   },
   "outputs": [
    {
     "data": {
      "text/html": [
       "<div>\n",
       "<table border=\"1\" class=\"dataframe\">\n",
       "  <thead>\n",
       "    <tr style=\"text-align: right;\">\n",
       "      <th></th>\n",
       "      <th>area</th>\n",
       "      <th>year</th>\n",
       "      <th>total_population</th>\n",
       "    </tr>\n",
       "  </thead>\n",
       "  <tbody>\n",
       "    <tr>\n",
       "      <th>0</th>\n",
       "      <td>afghanistan</td>\n",
       "      <td>1800</td>\n",
       "      <td>3280000.0</td>\n",
       "    </tr>\n",
       "    <tr>\n",
       "      <th>1</th>\n",
       "      <td>afghanistan</td>\n",
       "      <td>1820</td>\n",
       "      <td>3280000.0</td>\n",
       "    </tr>\n",
       "    <tr>\n",
       "      <th>2</th>\n",
       "      <td>afghanistan</td>\n",
       "      <td>1870</td>\n",
       "      <td>4207000.0</td>\n",
       "    </tr>\n",
       "    <tr>\n",
       "      <th>3</th>\n",
       "      <td>afghanistan</td>\n",
       "      <td>1913</td>\n",
       "      <td>5730000.0</td>\n",
       "    </tr>\n",
       "    <tr>\n",
       "      <th>4</th>\n",
       "      <td>afghanistan</td>\n",
       "      <td>1950</td>\n",
       "      <td>8151455.0</td>\n",
       "    </tr>\n",
       "  </tbody>\n",
       "</table>\n",
       "</div>"
      ],
      "text/plain": [
       "          area  year  total_population\n",
       "0  afghanistan  1800         3280000.0\n",
       "1  afghanistan  1820         3280000.0\n",
       "2  afghanistan  1870         4207000.0\n",
       "3  afghanistan  1913         5730000.0\n",
       "4  afghanistan  1950         8151455.0"
      ]
     },
     "execution_count": 11,
     "metadata": {},
     "output_type": "execute_result"
    }
   ],
   "source": [
    "p1.head()"
   ]
  },
  {
   "cell_type": "code",
   "execution_count": 31,
   "metadata": {
    "collapsed": true
   },
   "outputs": [],
   "source": [
    "area = dr.ddf_entities('ddf--gapminder--hist_pop')['area']"
   ]
  },
  {
   "cell_type": "code",
   "execution_count": 33,
   "metadata": {
    "collapsed": false
   },
   "outputs": [],
   "source": [
    "area = area.set_index('area')\n",
    "m0 = area.to_dict()['name']"
   ]
  },
  {
   "cell_type": "code",
   "execution_count": 34,
   "metadata": {
    "collapsed": true
   },
   "outputs": [],
   "source": [
    "p1['name'] = p1.area.map(lambda x: m0[x])"
   ]
  },
  {
   "cell_type": "code",
   "execution_count": 35,
   "metadata": {
    "collapsed": false
   },
   "outputs": [
    {
     "data": {
      "text/html": [
       "<div>\n",
       "<table border=\"1\" class=\"dataframe\">\n",
       "  <thead>\n",
       "    <tr style=\"text-align: right;\">\n",
       "      <th></th>\n",
       "      <th>area</th>\n",
       "      <th>year</th>\n",
       "      <th>total_population</th>\n",
       "      <th>name</th>\n",
       "    </tr>\n",
       "  </thead>\n",
       "  <tbody>\n",
       "    <tr>\n",
       "      <th>0</th>\n",
       "      <td>afghanistan</td>\n",
       "      <td>1800</td>\n",
       "      <td>3280000.0</td>\n",
       "      <td>Afghanistan</td>\n",
       "    </tr>\n",
       "    <tr>\n",
       "      <th>1</th>\n",
       "      <td>afghanistan</td>\n",
       "      <td>1820</td>\n",
       "      <td>3280000.0</td>\n",
       "      <td>Afghanistan</td>\n",
       "    </tr>\n",
       "    <tr>\n",
       "      <th>2</th>\n",
       "      <td>afghanistan</td>\n",
       "      <td>1870</td>\n",
       "      <td>4207000.0</td>\n",
       "      <td>Afghanistan</td>\n",
       "    </tr>\n",
       "    <tr>\n",
       "      <th>3</th>\n",
       "      <td>afghanistan</td>\n",
       "      <td>1913</td>\n",
       "      <td>5730000.0</td>\n",
       "      <td>Afghanistan</td>\n",
       "    </tr>\n",
       "    <tr>\n",
       "      <th>4</th>\n",
       "      <td>afghanistan</td>\n",
       "      <td>1950</td>\n",
       "      <td>8151455.0</td>\n",
       "      <td>Afghanistan</td>\n",
       "    </tr>\n",
       "  </tbody>\n",
       "</table>\n",
       "</div>"
      ],
      "text/plain": [
       "          area  year  total_population         name\n",
       "0  afghanistan  1800         3280000.0  Afghanistan\n",
       "1  afghanistan  1820         3280000.0  Afghanistan\n",
       "2  afghanistan  1870         4207000.0  Afghanistan\n",
       "3  afghanistan  1913         5730000.0  Afghanistan\n",
       "4  afghanistan  1950         8151455.0  Afghanistan"
      ]
     },
     "execution_count": 35,
     "metadata": {},
     "output_type": "execute_result"
    }
   ],
   "source": [
    "p1.head()"
   ]
  },
  {
   "cell_type": "code",
   "execution_count": null,
   "metadata": {
    "collapsed": true
   },
   "outputs": [],
   "source": []
  },
  {
   "cell_type": "code",
   "execution_count": null,
   "metadata": {
    "collapsed": true
   },
   "outputs": [],
   "source": []
  },
  {
   "cell_type": "code",
   "execution_count": 12,
   "metadata": {
    "collapsed": false
   },
   "outputs": [],
   "source": [
    "p2 = dr.ddf_datapoint('ddf--unpop--wpp_pop', 'population', 'country_code,year,age')"
   ]
  },
  {
   "cell_type": "code",
   "execution_count": 13,
   "metadata": {
    "collapsed": false
   },
   "outputs": [
    {
     "data": {
      "text/html": [
       "<div>\n",
       "<table border=\"1\" class=\"dataframe\">\n",
       "  <thead>\n",
       "    <tr style=\"text-align: right;\">\n",
       "      <th></th>\n",
       "      <th>country_code</th>\n",
       "      <th>year</th>\n",
       "      <th>age</th>\n",
       "      <th>population</th>\n",
       "    </tr>\n",
       "  </thead>\n",
       "  <tbody>\n",
       "    <tr>\n",
       "      <th>0</th>\n",
       "      <td>100</td>\n",
       "      <td>1950</td>\n",
       "      <td>0</td>\n",
       "      <td>162.422</td>\n",
       "    </tr>\n",
       "    <tr>\n",
       "      <th>1</th>\n",
       "      <td>100</td>\n",
       "      <td>1950</td>\n",
       "      <td>1</td>\n",
       "      <td>153.456</td>\n",
       "    </tr>\n",
       "    <tr>\n",
       "      <th>2</th>\n",
       "      <td>100</td>\n",
       "      <td>1950</td>\n",
       "      <td>2</td>\n",
       "      <td>145.560</td>\n",
       "    </tr>\n",
       "    <tr>\n",
       "      <th>3</th>\n",
       "      <td>100</td>\n",
       "      <td>1950</td>\n",
       "      <td>3</td>\n",
       "      <td>138.704</td>\n",
       "    </tr>\n",
       "    <tr>\n",
       "      <th>4</th>\n",
       "      <td>100</td>\n",
       "      <td>1950</td>\n",
       "      <td>4</td>\n",
       "      <td>132.858</td>\n",
       "    </tr>\n",
       "  </tbody>\n",
       "</table>\n",
       "</div>"
      ],
      "text/plain": [
       "   country_code  year age  population\n",
       "0           100  1950   0     162.422\n",
       "1           100  1950   1     153.456\n",
       "2           100  1950   2     145.560\n",
       "3           100  1950   3     138.704\n",
       "4           100  1950   4     132.858"
      ]
     },
     "execution_count": 13,
     "metadata": {},
     "output_type": "execute_result"
    }
   ],
   "source": [
    "p2.head()"
   ]
  },
  {
   "cell_type": "code",
   "execution_count": 14,
   "metadata": {
    "collapsed": true
   },
   "outputs": [],
   "source": [
    "p2 = p2.groupby(['country_code', 'year'])['population'].sum()"
   ]
  },
  {
   "cell_type": "code",
   "execution_count": 17,
   "metadata": {
    "collapsed": false
   },
   "outputs": [],
   "source": [
    "p2 = p2.reset_index()"
   ]
  },
  {
   "cell_type": "code",
   "execution_count": 18,
   "metadata": {
    "collapsed": false
   },
   "outputs": [
    {
     "data": {
      "text/html": [
       "<div>\n",
       "<table border=\"1\" class=\"dataframe\">\n",
       "  <thead>\n",
       "    <tr style=\"text-align: right;\">\n",
       "      <th></th>\n",
       "      <th>country_code</th>\n",
       "      <th>year</th>\n",
       "      <th>population</th>\n",
       "    </tr>\n",
       "  </thead>\n",
       "  <tbody>\n",
       "    <tr>\n",
       "      <th>0</th>\n",
       "      <td>4</td>\n",
       "      <td>1950</td>\n",
       "      <td>7752.118</td>\n",
       "    </tr>\n",
       "    <tr>\n",
       "      <th>1</th>\n",
       "      <td>4</td>\n",
       "      <td>1951</td>\n",
       "      <td>7839.426</td>\n",
       "    </tr>\n",
       "    <tr>\n",
       "      <th>2</th>\n",
       "      <td>4</td>\n",
       "      <td>1952</td>\n",
       "      <td>7934.798</td>\n",
       "    </tr>\n",
       "    <tr>\n",
       "      <th>3</th>\n",
       "      <td>4</td>\n",
       "      <td>1953</td>\n",
       "      <td>8038.312</td>\n",
       "    </tr>\n",
       "    <tr>\n",
       "      <th>4</th>\n",
       "      <td>4</td>\n",
       "      <td>1954</td>\n",
       "      <td>8150.037</td>\n",
       "    </tr>\n",
       "  </tbody>\n",
       "</table>\n",
       "</div>"
      ],
      "text/plain": [
       "   country_code  year  population\n",
       "0             4  1950    7752.118\n",
       "1             4  1951    7839.426\n",
       "2             4  1952    7934.798\n",
       "3             4  1953    8038.312\n",
       "4             4  1954    8150.037"
      ]
     },
     "execution_count": 18,
     "metadata": {},
     "output_type": "execute_result"
    }
   ],
   "source": [
    "p2.head()"
   ]
  },
  {
   "cell_type": "code",
   "execution_count": 22,
   "metadata": {
    "collapsed": true
   },
   "outputs": [],
   "source": [
    "country_code = dr.ddf_entities('ddf--unpop--wpp_pop')['country_code']"
   ]
  },
  {
   "cell_type": "code",
   "execution_count": 23,
   "metadata": {
    "collapsed": false
   },
   "outputs": [],
   "source": [
    "country_code = country_code.set_index(['country_code'])"
   ]
  },
  {
   "cell_type": "code",
   "execution_count": 28,
   "metadata": {
    "collapsed": false,
    "scrolled": false
   },
   "outputs": [],
   "source": [
    "m = country_code.to_dict()['name']"
   ]
  },
  {
   "cell_type": "code",
   "execution_count": 29,
   "metadata": {
    "collapsed": true
   },
   "outputs": [],
   "source": [
    "p2['name'] = p2.country_code.map(lambda x: m[x])"
   ]
  },
  {
   "cell_type": "code",
   "execution_count": 30,
   "metadata": {
    "collapsed": false
   },
   "outputs": [
    {
     "data": {
      "text/html": [
       "<div>\n",
       "<table border=\"1\" class=\"dataframe\">\n",
       "  <thead>\n",
       "    <tr style=\"text-align: right;\">\n",
       "      <th></th>\n",
       "      <th>country_code</th>\n",
       "      <th>year</th>\n",
       "      <th>population</th>\n",
       "      <th>name</th>\n",
       "    </tr>\n",
       "  </thead>\n",
       "  <tbody>\n",
       "    <tr>\n",
       "      <th>0</th>\n",
       "      <td>4</td>\n",
       "      <td>1950</td>\n",
       "      <td>7752.118</td>\n",
       "      <td>Afghanistan</td>\n",
       "    </tr>\n",
       "    <tr>\n",
       "      <th>1</th>\n",
       "      <td>4</td>\n",
       "      <td>1951</td>\n",
       "      <td>7839.426</td>\n",
       "      <td>Afghanistan</td>\n",
       "    </tr>\n",
       "    <tr>\n",
       "      <th>2</th>\n",
       "      <td>4</td>\n",
       "      <td>1952</td>\n",
       "      <td>7934.798</td>\n",
       "      <td>Afghanistan</td>\n",
       "    </tr>\n",
       "    <tr>\n",
       "      <th>3</th>\n",
       "      <td>4</td>\n",
       "      <td>1953</td>\n",
       "      <td>8038.312</td>\n",
       "      <td>Afghanistan</td>\n",
       "    </tr>\n",
       "    <tr>\n",
       "      <th>4</th>\n",
       "      <td>4</td>\n",
       "      <td>1954</td>\n",
       "      <td>8150.037</td>\n",
       "      <td>Afghanistan</td>\n",
       "    </tr>\n",
       "  </tbody>\n",
       "</table>\n",
       "</div>"
      ],
      "text/plain": [
       "   country_code  year  population         name\n",
       "0             4  1950    7752.118  Afghanistan\n",
       "1             4  1951    7839.426  Afghanistan\n",
       "2             4  1952    7934.798  Afghanistan\n",
       "3             4  1953    8038.312  Afghanistan\n",
       "4             4  1954    8150.037  Afghanistan"
      ]
     },
     "execution_count": 30,
     "metadata": {},
     "output_type": "execute_result"
    }
   ],
   "source": [
    "p2.head()"
   ]
  },
  {
   "cell_type": "code",
   "execution_count": null,
   "metadata": {
    "collapsed": true
   },
   "outputs": [],
   "source": []
  },
  {
   "cell_type": "code",
   "execution_count": null,
   "metadata": {
    "collapsed": true
   },
   "outputs": [],
   "source": []
  },
  {
   "cell_type": "code",
   "execution_count": 36,
   "metadata": {
    "collapsed": true
   },
   "outputs": [],
   "source": [
    "name_gapminder = p1.name.unique()"
   ]
  },
  {
   "cell_type": "code",
   "execution_count": 53,
   "metadata": {
    "collapsed": true
   },
   "outputs": [],
   "source": [
    "name_un = p2[p2.country_code<900].name.unique()"
   ]
  },
  {
   "cell_type": "code",
   "execution_count": 40,
   "metadata": {
    "collapsed": false
   },
   "outputs": [
    {
     "data": {
      "text/plain": [
       "254"
      ]
     },
     "execution_count": 40,
     "metadata": {},
     "output_type": "execute_result"
    }
   ],
   "source": [
    "len(set(name_gapminder))"
   ]
  },
  {
   "cell_type": "code",
   "execution_count": 54,
   "metadata": {
    "collapsed": false,
    "scrolled": false
   },
   "outputs": [
    {
     "data": {
      "text/plain": [
       "170"
      ]
     },
     "execution_count": 54,
     "metadata": {},
     "output_type": "execute_result"
    }
   ],
   "source": [
    "len(set(name_gapminder).intersection(set(name_un)))"
   ]
  },
  {
   "cell_type": "markdown",
   "metadata": {},
   "source": [
    "so there are some name difference between gapminder and unpop. Try align them to geo entity domain now."
   ]
  },
  {
   "cell_type": "code",
   "execution_count": null,
   "metadata": {
    "collapsed": true
   },
   "outputs": [],
   "source": []
  },
  {
   "cell_type": "code",
   "execution_count": 44,
   "metadata": {
    "collapsed": true
   },
   "outputs": [],
   "source": [
    "geo = dr.ddf_entities('ddf--gapminder--geo_entity_domain')['country']"
   ]
  },
  {
   "cell_type": "code",
   "execution_count": 45,
   "metadata": {
    "collapsed": false
   },
   "outputs": [
    {
     "data": {
      "text/plain": [
       "Index(['country', 'gwid', 'name', 'world_6region', 'income_groups',\n",
       "       'landlocked', 'g77_and_oecd_countries', 'main_religion_2008',\n",
       "       'gapminder_list', 'alternative_1', 'alternative_2', 'alternative_3',\n",
       "       'alternative_4_cdiac', 'pandg', 'god_id', 'alt_5', 'upper_case_name',\n",
       "       'code', 'number', 'arb1', 'arb2', 'arb3', 'arb4', 'arb5', 'arb6',\n",
       "       'is--country', 'world_4region', 'latitude', 'longitude'],\n",
       "      dtype='object')"
      ]
     },
     "execution_count": 45,
     "metadata": {},
     "output_type": "execute_result"
    }
   ],
   "source": [
    "geo.columns"
   ]
  },
  {
   "cell_type": "code",
   "execution_count": 46,
   "metadata": {
    "collapsed": true
   },
   "outputs": [],
   "source": [
    "# mapping for gapminder\n",
    "\n",
    "map_g = {}\n",
    "\n",
    "for g in name_gapminder:\n",
    "    map0 = geo['name'] == g\n",
    "    map1 = geo['gapminder_list'] == g\n",
    "    \n",
    "    map_all = map0 | map1\n",
    "    filtered = geo[map_all]\n",
    "    if len(filtered) > 0:\n",
    "        map_g[g] = filtered['country'].values[0]\n",
    "    else:\n",
    "        print('not found: ', g)"
   ]
  },
  {
   "cell_type": "code",
   "execution_count": 48,
   "metadata": {
    "collapsed": false
   },
   "outputs": [],
   "source": [
    "p1['geo'] = p1.name.map(lambda x: map_g[x])"
   ]
  },
  {
   "cell_type": "code",
   "execution_count": 50,
   "metadata": {
    "collapsed": false
   },
   "outputs": [],
   "source": [
    "p1_ = p1[['geo', 'year', 'total_population']]"
   ]
  },
  {
   "cell_type": "code",
   "execution_count": null,
   "metadata": {
    "collapsed": true
   },
   "outputs": [],
   "source": []
  },
  {
   "cell_type": "code",
   "execution_count": null,
   "metadata": {
    "collapsed": true
   },
   "outputs": [],
   "source": []
  },
  {
   "cell_type": "code",
   "execution_count": 57,
   "metadata": {
    "collapsed": false
   },
   "outputs": [
    {
     "name": "stdout",
     "output_type": "stream",
     "text": [
      "not found:  Other non-specified areas\n",
      "not found:  Democratic Republic of the Congo\n",
      "not found:  Iran (Islamic Republic of)\n",
      "not found:  Republic of Korea\n",
      "not found:  Lao People's Democratic Republic\n",
      "not found:  United Republic of Tanzania\n"
     ]
    }
   ],
   "source": [
    "# mappings for unpop\n",
    "\n",
    "map_u = {}\n",
    "\n",
    "cols = ['name', 'gapminder_list', 'alternative_1', 'alternative_2', 'alternative_3',\n",
    "       'alternative_4_cdiac', 'pandg', 'god_id', 'alt_5', 'upper_case_name',\n",
    "       'code', 'arb1', 'arb2', 'arb3', 'arb4', 'arb5', 'arb6']\n",
    "\n",
    "for g in name_un:\n",
    "    maps = []\n",
    "    \n",
    "    for c in cols:\n",
    "        maps.append(geo[c] == g)\n",
    "    \n",
    "    map_0 = maps[0]\n",
    "    \n",
    "    for mm in maps[1:]:\n",
    "        map_0 = map_0 | mm\n",
    "    \n",
    "    filtered = geo[map_0]\n",
    "    if len(filtered) > 0:\n",
    "        map_u[g] = filtered['country'].values[0]\n",
    "    else:\n",
    "        print('not found: ', g)"
   ]
  },
  {
   "cell_type": "code",
   "execution_count": null,
   "metadata": {
    "collapsed": true
   },
   "outputs": [],
   "source": []
  },
  {
   "cell_type": "code",
   "execution_count": null,
   "metadata": {
    "collapsed": true
   },
   "outputs": [],
   "source": [
    "# manually add some geo here"
   ]
  },
  {
   "cell_type": "code",
   "execution_count": 63,
   "metadata": {
    "collapsed": false
   },
   "outputs": [
    {
     "data": {
      "text/html": [
       "<div>\n",
       "<table border=\"1\" class=\"dataframe\">\n",
       "  <thead>\n",
       "    <tr style=\"text-align: right;\">\n",
       "      <th></th>\n",
       "      <th>country</th>\n",
       "      <th>gwid</th>\n",
       "      <th>name</th>\n",
       "      <th>world_6region</th>\n",
       "      <th>income_groups</th>\n",
       "      <th>landlocked</th>\n",
       "      <th>g77_and_oecd_countries</th>\n",
       "      <th>main_religion_2008</th>\n",
       "      <th>gapminder_list</th>\n",
       "      <th>alternative_1</th>\n",
       "      <th>...</th>\n",
       "      <th>arb1</th>\n",
       "      <th>arb2</th>\n",
       "      <th>arb3</th>\n",
       "      <th>arb4</th>\n",
       "      <th>arb5</th>\n",
       "      <th>arb6</th>\n",
       "      <th>is--country</th>\n",
       "      <th>world_4region</th>\n",
       "      <th>latitude</th>\n",
       "      <th>longitude</th>\n",
       "    </tr>\n",
       "  </thead>\n",
       "  <tbody>\n",
       "    <tr>\n",
       "      <th>237</th>\n",
       "      <td>tza</td>\n",
       "      <td>i223</td>\n",
       "      <td>Tanzania</td>\n",
       "      <td>sub_saharan_africa</td>\n",
       "      <td>low_income</td>\n",
       "      <td>coastline</td>\n",
       "      <td>g77</td>\n",
       "      <td>christian</td>\n",
       "      <td>Tanzania</td>\n",
       "      <td>Tanzania, U. Rep. of</td>\n",
       "      <td>...</td>\n",
       "      <td>NaN</td>\n",
       "      <td>NaN</td>\n",
       "      <td>NaN</td>\n",
       "      <td>NaN</td>\n",
       "      <td>NaN</td>\n",
       "      <td>NaN</td>\n",
       "      <td>True</td>\n",
       "      <td>africa</td>\n",
       "      <td>-6.0</td>\n",
       "      <td>35.0</td>\n",
       "    </tr>\n",
       "  </tbody>\n",
       "</table>\n",
       "<p>1 rows × 29 columns</p>\n",
       "</div>"
      ],
      "text/plain": [
       "    country  gwid      name       world_6region income_groups landlocked  \\\n",
       "237     tza  i223  Tanzania  sub_saharan_africa    low_income  coastline   \n",
       "\n",
       "    g77_and_oecd_countries main_religion_2008 gapminder_list  \\\n",
       "237                    g77          christian       Tanzania   \n",
       "\n",
       "            alternative_1    ...    arb1 arb2 arb3 arb4 arb5 arb6 is--country  \\\n",
       "237  Tanzania, U. Rep. of    ...     NaN  NaN  NaN  NaN  NaN  NaN        True   \n",
       "\n",
       "    world_4region  latitude longitude  \n",
       "237        africa      -6.0      35.0  \n",
       "\n",
       "[1 rows x 29 columns]"
      ]
     },
     "execution_count": 63,
     "metadata": {},
     "output_type": "execute_result"
    }
   ],
   "source": [
    "geo[geo.name.str.contains('Tanzania')]"
   ]
  },
  {
   "cell_type": "code",
   "execution_count": 67,
   "metadata": {
    "collapsed": false,
    "scrolled": true
   },
   "outputs": [],
   "source": [
    "map_u['Other non-specified areas'] = None\n",
    "map_u['Democratic Republic of the Congo'] = 'cod'\n",
    "map_u['Iran (Islamic Republic of)'] = 'irn'\n",
    "map_u['Republic of Korea'] = 'kor'\n",
    "map_u[\"Lao People's Democratic Republic\"] = 'lao'\n",
    "map_u['United Republic of Tanzania'] = 'tza'"
   ]
  },
  {
   "cell_type": "code",
   "execution_count": 132,
   "metadata": {
    "collapsed": false
   },
   "outputs": [],
   "source": [
    "## \n",
    "\n",
    "p2_ = p2[p2.country_code < 900].copy()\n",
    "\n",
    "p2_['geo'] = p2_.name.map(lambda x: map_u[x])"
   ]
  },
  {
   "cell_type": "code",
   "execution_count": 133,
   "metadata": {
    "collapsed": true
   },
   "outputs": [],
   "source": [
    "p2_ = p2_.dropna(subset=['geo'])"
   ]
  },
  {
   "cell_type": "code",
   "execution_count": 134,
   "metadata": {
    "collapsed": false
   },
   "outputs": [],
   "source": [
    "p2_ = p2_[['geo', 'year', 'population']]"
   ]
  },
  {
   "cell_type": "code",
   "execution_count": 135,
   "metadata": {
    "collapsed": false
   },
   "outputs": [
    {
     "data": {
      "text/html": [
       "<div>\n",
       "<table border=\"1\" class=\"dataframe\">\n",
       "  <thead>\n",
       "    <tr style=\"text-align: right;\">\n",
       "      <th></th>\n",
       "      <th>geo</th>\n",
       "      <th>year</th>\n",
       "      <th>population</th>\n",
       "    </tr>\n",
       "  </thead>\n",
       "  <tbody>\n",
       "    <tr>\n",
       "      <th>0</th>\n",
       "      <td>afg</td>\n",
       "      <td>1950</td>\n",
       "      <td>7752.118</td>\n",
       "    </tr>\n",
       "    <tr>\n",
       "      <th>1</th>\n",
       "      <td>afg</td>\n",
       "      <td>1951</td>\n",
       "      <td>7839.426</td>\n",
       "    </tr>\n",
       "    <tr>\n",
       "      <th>2</th>\n",
       "      <td>afg</td>\n",
       "      <td>1952</td>\n",
       "      <td>7934.798</td>\n",
       "    </tr>\n",
       "    <tr>\n",
       "      <th>3</th>\n",
       "      <td>afg</td>\n",
       "      <td>1953</td>\n",
       "      <td>8038.312</td>\n",
       "    </tr>\n",
       "    <tr>\n",
       "      <th>4</th>\n",
       "      <td>afg</td>\n",
       "      <td>1954</td>\n",
       "      <td>8150.037</td>\n",
       "    </tr>\n",
       "  </tbody>\n",
       "</table>\n",
       "</div>"
      ],
      "text/plain": [
       "   geo  year  population\n",
       "0  afg  1950    7752.118\n",
       "1  afg  1951    7839.426\n",
       "2  afg  1952    7934.798\n",
       "3  afg  1953    8038.312\n",
       "4  afg  1954    8150.037"
      ]
     },
     "execution_count": 135,
     "metadata": {},
     "output_type": "execute_result"
    }
   ],
   "source": [
    "p2_.head()"
   ]
  },
  {
   "cell_type": "code",
   "execution_count": null,
   "metadata": {
    "collapsed": true
   },
   "outputs": [],
   "source": []
  },
  {
   "cell_type": "code",
   "execution_count": null,
   "metadata": {
    "collapsed": true
   },
   "outputs": [],
   "source": []
  },
  {
   "cell_type": "code",
   "execution_count": 137,
   "metadata": {
    "collapsed": false
   },
   "outputs": [],
   "source": [
    "geo_g = p1_.geo.unique()\n",
    "geo_u = p2_.geo.unique()"
   ]
  },
  {
   "cell_type": "code",
   "execution_count": 138,
   "metadata": {
    "collapsed": false
   },
   "outputs": [
    {
     "data": {
      "text/plain": [
       "199"
      ]
     },
     "execution_count": 138,
     "metadata": {},
     "output_type": "execute_result"
    }
   ],
   "source": [
    "len(set(geo_g).intersection(set(geo_u)))"
   ]
  },
  {
   "cell_type": "code",
   "execution_count": 139,
   "metadata": {
    "collapsed": false
   },
   "outputs": [
    {
     "data": {
      "text/plain": [
       "254"
      ]
     },
     "execution_count": 139,
     "metadata": {},
     "output_type": "execute_result"
    }
   ],
   "source": [
    "len(set(geo_g))"
   ]
  },
  {
   "cell_type": "code",
   "execution_count": 140,
   "metadata": {
    "collapsed": false
   },
   "outputs": [
    {
     "data": {
      "text/plain": [
       "200"
      ]
     },
     "execution_count": 140,
     "metadata": {},
     "output_type": "execute_result"
    }
   ],
   "source": [
    "len(set(geo_u))"
   ]
  },
  {
   "cell_type": "code",
   "execution_count": null,
   "metadata": {
    "collapsed": true
   },
   "outputs": [],
   "source": [
    "## so above means only 199 country have interaction of data in both dataset."
   ]
  },
  {
   "cell_type": "code",
   "execution_count": null,
   "metadata": {
    "collapsed": true
   },
   "outputs": [],
   "source": []
  },
  {
   "cell_type": "code",
   "execution_count": 141,
   "metadata": {
    "collapsed": false
   },
   "outputs": [],
   "source": [
    "p1_ = p1_.set_index(['geo', 'year'])\n",
    "p2_ = p2_.set_index(['geo', 'year'])"
   ]
  },
  {
   "cell_type": "code",
   "execution_count": 86,
   "metadata": {
    "collapsed": false
   },
   "outputs": [],
   "source": [
    "merged = pd.concat([p1_, p2_], axis=1)"
   ]
  },
  {
   "cell_type": "code",
   "execution_count": 87,
   "metadata": {
    "collapsed": true
   },
   "outputs": [],
   "source": [
    "merged.population = merged.population * 1000"
   ]
  },
  {
   "cell_type": "code",
   "execution_count": 89,
   "metadata": {
    "collapsed": false
   },
   "outputs": [],
   "source": [
    "merged['merged'] = merged.population.fillna(merged.total_population)"
   ]
  },
  {
   "cell_type": "code",
   "execution_count": 90,
   "metadata": {
    "collapsed": true
   },
   "outputs": [],
   "source": [
    "merged.to_csv('tmp.csv')"
   ]
  },
  {
   "cell_type": "code",
   "execution_count": null,
   "metadata": {
    "collapsed": true
   },
   "outputs": [],
   "source": []
  },
  {
   "cell_type": "code",
   "execution_count": null,
   "metadata": {
    "collapsed": true
   },
   "outputs": [],
   "source": []
  },
  {
   "cell_type": "code",
   "execution_count": null,
   "metadata": {
    "collapsed": true
   },
   "outputs": [],
   "source": [
    "# make an other indicator with total_population_with_interpolations"
   ]
  },
  {
   "cell_type": "code",
   "execution_count": 91,
   "metadata": {
    "collapsed": true
   },
   "outputs": [],
   "source": [
    "p3 = dr.ddf_datapoint('ddf--gapminder--hist_pop', 'total_population_with_interpolations')"
   ]
  },
  {
   "cell_type": "code",
   "execution_count": 92,
   "metadata": {
    "collapsed": true
   },
   "outputs": [],
   "source": [
    "p3['name'] = p3.area.map(lambda x: m0[x])"
   ]
  },
  {
   "cell_type": "code",
   "execution_count": 93,
   "metadata": {
    "collapsed": true
   },
   "outputs": [],
   "source": [
    "p3['geo'] = p3.name.map(lambda x: map_g[x])"
   ]
  },
  {
   "cell_type": "code",
   "execution_count": 94,
   "metadata": {
    "collapsed": true
   },
   "outputs": [],
   "source": [
    "p3_ = p3[['geo', 'year', 'total_population_with_interpolations']]"
   ]
  },
  {
   "cell_type": "code",
   "execution_count": 95,
   "metadata": {
    "collapsed": true
   },
   "outputs": [],
   "source": [
    "p3_ = p3_.set_index(['geo', 'year'])"
   ]
  },
  {
   "cell_type": "code",
   "execution_count": 125,
   "metadata": {
    "collapsed": false
   },
   "outputs": [],
   "source": [
    "merged_2 = pd.concat([p3_, p2_], axis=1)\n",
    "merged_2.population = merged_2.population * 1000\n",
    "merged_2['merged'] = merged_2.population.fillna(merged_2.total_population_with_interpolations)"
   ]
  },
  {
   "cell_type": "code",
   "execution_count": 142,
   "metadata": {
    "collapsed": false,
    "scrolled": false
   },
   "outputs": [],
   "source": [
    "diffs = merged_2[(merged_2.index.get_level_values(1) >= 1940) & (merged_2.index.get_level_values(1) <= 1960)]"
   ]
  },
  {
   "cell_type": "code",
   "execution_count": 143,
   "metadata": {
    "collapsed": false
   },
   "outputs": [
    {
     "data": {
      "text/plain": [
       "Index(['total_population_with_interpolations', 'population', 'merged'], dtype='object')"
      ]
     },
     "execution_count": 143,
     "metadata": {},
     "output_type": "execute_result"
    }
   ],
   "source": [
    "diffs.columns"
   ]
  },
  {
   "cell_type": "code",
   "execution_count": 144,
   "metadata": {
    "collapsed": true
   },
   "outputs": [],
   "source": [
    "diffs.columns = ['total_population_with_interpolations(GW)', 'populatioin(UN)', 'merged']"
   ]
  },
  {
   "cell_type": "code",
   "execution_count": 148,
   "metadata": {
    "collapsed": false
   },
   "outputs": [
    {
     "data": {
      "text/html": [
       "<div>\n",
       "<table border=\"1\" class=\"dataframe\">\n",
       "  <thead>\n",
       "    <tr style=\"text-align: right;\">\n",
       "      <th></th>\n",
       "      <th></th>\n",
       "      <th>total_population_with_interpolations(GW)</th>\n",
       "      <th>populatioin(UN)</th>\n",
       "      <th>merged</th>\n",
       "    </tr>\n",
       "    <tr>\n",
       "      <th>geo</th>\n",
       "      <th>year</th>\n",
       "      <th></th>\n",
       "      <th></th>\n",
       "      <th></th>\n",
       "    </tr>\n",
       "  </thead>\n",
       "  <tbody>\n",
       "    <tr>\n",
       "      <th rowspan=\"21\" valign=\"top\">irn</th>\n",
       "      <th>1940</th>\n",
       "      <td>15378639.0</td>\n",
       "      <td>NaN</td>\n",
       "      <td>15378639.0</td>\n",
       "    </tr>\n",
       "    <tr>\n",
       "      <th>1941</th>\n",
       "      <td>15571000.0</td>\n",
       "      <td>NaN</td>\n",
       "      <td>15571000.0</td>\n",
       "    </tr>\n",
       "    <tr>\n",
       "      <th>1942</th>\n",
       "      <td>15765767.0</td>\n",
       "      <td>NaN</td>\n",
       "      <td>15765767.0</td>\n",
       "    </tr>\n",
       "    <tr>\n",
       "      <th>1943</th>\n",
       "      <td>15962970.0</td>\n",
       "      <td>NaN</td>\n",
       "      <td>15962970.0</td>\n",
       "    </tr>\n",
       "    <tr>\n",
       "      <th>1944</th>\n",
       "      <td>16162640.0</td>\n",
       "      <td>NaN</td>\n",
       "      <td>16162640.0</td>\n",
       "    </tr>\n",
       "    <tr>\n",
       "      <th>1945</th>\n",
       "      <td>16364808.0</td>\n",
       "      <td>NaN</td>\n",
       "      <td>16364808.0</td>\n",
       "    </tr>\n",
       "    <tr>\n",
       "      <th>1946</th>\n",
       "      <td>16569504.0</td>\n",
       "      <td>NaN</td>\n",
       "      <td>16569504.0</td>\n",
       "    </tr>\n",
       "    <tr>\n",
       "      <th>1947</th>\n",
       "      <td>16776760.0</td>\n",
       "      <td>NaN</td>\n",
       "      <td>16776760.0</td>\n",
       "    </tr>\n",
       "    <tr>\n",
       "      <th>1948</th>\n",
       "      <td>16986610.0</td>\n",
       "      <td>NaN</td>\n",
       "      <td>16986610.0</td>\n",
       "    </tr>\n",
       "    <tr>\n",
       "      <th>1949</th>\n",
       "      <td>17199083.0</td>\n",
       "      <td>NaN</td>\n",
       "      <td>17199083.0</td>\n",
       "    </tr>\n",
       "    <tr>\n",
       "      <th>1950</th>\n",
       "      <td>17414215.0</td>\n",
       "      <td>17119263.0</td>\n",
       "      <td>17119263.0</td>\n",
       "    </tr>\n",
       "    <tr>\n",
       "      <th>1951</th>\n",
       "      <td>17772538.0</td>\n",
       "      <td>17516578.0</td>\n",
       "      <td>17516578.0</td>\n",
       "    </tr>\n",
       "    <tr>\n",
       "      <th>1952</th>\n",
       "      <td>18153564.0</td>\n",
       "      <td>17933356.0</td>\n",
       "      <td>17933356.0</td>\n",
       "    </tr>\n",
       "    <tr>\n",
       "      <th>1953</th>\n",
       "      <td>18557412.0</td>\n",
       "      <td>18368896.0</td>\n",
       "      <td>18368896.0</td>\n",
       "    </tr>\n",
       "    <tr>\n",
       "      <th>1954</th>\n",
       "      <td>18984036.0</td>\n",
       "      <td>18822605.0</td>\n",
       "      <td>18822605.0</td>\n",
       "    </tr>\n",
       "    <tr>\n",
       "      <th>1955</th>\n",
       "      <td>19433222.0</td>\n",
       "      <td>19293998.0</td>\n",
       "      <td>19293998.0</td>\n",
       "    </tr>\n",
       "    <tr>\n",
       "      <th>1956</th>\n",
       "      <td>19904579.0</td>\n",
       "      <td>19782699.0</td>\n",
       "      <td>19782699.0</td>\n",
       "    </tr>\n",
       "    <tr>\n",
       "      <th>1957</th>\n",
       "      <td>20397551.0</td>\n",
       "      <td>20288440.0</td>\n",
       "      <td>20288440.0</td>\n",
       "    </tr>\n",
       "    <tr>\n",
       "      <th>1958</th>\n",
       "      <td>20911449.0</td>\n",
       "      <td>20811062.0</td>\n",
       "      <td>20811062.0</td>\n",
       "    </tr>\n",
       "    <tr>\n",
       "      <th>1959</th>\n",
       "      <td>21445515.0</td>\n",
       "      <td>21350524.0</td>\n",
       "      <td>21350524.0</td>\n",
       "    </tr>\n",
       "    <tr>\n",
       "      <th>1960</th>\n",
       "      <td>21999103.0</td>\n",
       "      <td>21906905.0</td>\n",
       "      <td>21906905.0</td>\n",
       "    </tr>\n",
       "  </tbody>\n",
       "</table>\n",
       "</div>"
      ],
      "text/plain": [
       "          total_population_with_interpolations(GW)  populatioin(UN)  \\\n",
       "geo year                                                              \n",
       "irn 1940                                15378639.0              NaN   \n",
       "    1941                                15571000.0              NaN   \n",
       "    1942                                15765767.0              NaN   \n",
       "    1943                                15962970.0              NaN   \n",
       "    1944                                16162640.0              NaN   \n",
       "    1945                                16364808.0              NaN   \n",
       "    1946                                16569504.0              NaN   \n",
       "    1947                                16776760.0              NaN   \n",
       "    1948                                16986610.0              NaN   \n",
       "    1949                                17199083.0              NaN   \n",
       "    1950                                17414215.0       17119263.0   \n",
       "    1951                                17772538.0       17516578.0   \n",
       "    1952                                18153564.0       17933356.0   \n",
       "    1953                                18557412.0       18368896.0   \n",
       "    1954                                18984036.0       18822605.0   \n",
       "    1955                                19433222.0       19293998.0   \n",
       "    1956                                19904579.0       19782699.0   \n",
       "    1957                                20397551.0       20288440.0   \n",
       "    1958                                20911449.0       20811062.0   \n",
       "    1959                                21445515.0       21350524.0   \n",
       "    1960                                21999103.0       21906905.0   \n",
       "\n",
       "              merged  \n",
       "geo year              \n",
       "irn 1940  15378639.0  \n",
       "    1941  15571000.0  \n",
       "    1942  15765767.0  \n",
       "    1943  15962970.0  \n",
       "    1944  16162640.0  \n",
       "    1945  16364808.0  \n",
       "    1946  16569504.0  \n",
       "    1947  16776760.0  \n",
       "    1948  16986610.0  \n",
       "    1949  17199083.0  \n",
       "    1950  17119263.0  \n",
       "    1951  17516578.0  \n",
       "    1952  17933356.0  \n",
       "    1953  18368896.0  \n",
       "    1954  18822605.0  \n",
       "    1955  19293998.0  \n",
       "    1956  19782699.0  \n",
       "    1957  20288440.0  \n",
       "    1958  20811062.0  \n",
       "    1959  21350524.0  \n",
       "    1960  21906905.0  "
      ]
     },
     "execution_count": 148,
     "metadata": {},
     "output_type": "execute_result"
    }
   ],
   "source": [
    "diffs[diffs.index.get_level_values(0) == 'irn']"
   ]
  },
  {
   "cell_type": "code",
   "execution_count": 149,
   "metadata": {
    "collapsed": true
   },
   "outputs": [],
   "source": [
    "diffs.to_csv('../bridge_diff.csv')"
   ]
  },
  {
   "cell_type": "code",
   "execution_count": null,
   "metadata": {
    "collapsed": true
   },
   "outputs": [],
   "source": []
  },
  {
   "cell_type": "code",
   "execution_count": 153,
   "metadata": {
    "collapsed": false
   },
   "outputs": [],
   "source": [
    "dps = merged_2[['merged']]\n",
    "dps = dps.reset_index()"
   ]
  },
  {
   "cell_type": "code",
   "execution_count": 172,
   "metadata": {
    "collapsed": true
   },
   "outputs": [],
   "source": [
    "dps.columns = ['country', 'year', 'population']"
   ]
  },
  {
   "cell_type": "code",
   "execution_count": null,
   "metadata": {
    "collapsed": true
   },
   "outputs": [],
   "source": []
  },
  {
   "cell_type": "code",
   "execution_count": 173,
   "metadata": {
    "collapsed": true
   },
   "outputs": [],
   "source": [
    "dps.to_csv('../../ddf--datapoints--population--by--country--year.csv', index=False)"
   ]
  },
  {
   "cell_type": "code",
   "execution_count": null,
   "metadata": {
    "collapsed": true
   },
   "outputs": [],
   "source": []
  },
  {
   "cell_type": "markdown",
   "metadata": {},
   "source": [
    "# geo entity"
   ]
  },
  {
   "cell_type": "code",
   "execution_count": 168,
   "metadata": {
    "collapsed": false,
    "scrolled": false
   },
   "outputs": [],
   "source": [
    "geo_u = list(map_u.values())\n",
    "geo_g = list(map_g.values())"
   ]
  },
  {
   "cell_type": "code",
   "execution_count": 159,
   "metadata": {
    "collapsed": true
   },
   "outputs": [],
   "source": [
    "geo_d = list(geo.country)"
   ]
  },
  {
   "cell_type": "code",
   "execution_count": 164,
   "metadata": {
    "collapsed": false
   },
   "outputs": [
    {
     "data": {
      "text/plain": [
       "{'nld_curacao', None}"
      ]
     },
     "execution_count": 164,
     "metadata": {},
     "output_type": "execute_result"
    }
   ],
   "source": [
    "# geos in UN but not in GW\n",
    "\n",
    "set(geo_u).difference(set(geo_g))"
   ]
  },
  {
   "cell_type": "code",
   "execution_count": 166,
   "metadata": {
    "collapsed": false,
    "scrolled": false
   },
   "outputs": [
    {
     "data": {
      "text/plain": [
       "{'aia',\n",
       " 'akr_a_dhe',\n",
       " 'ala',\n",
       " 'and',\n",
       " 'ant',\n",
       " 'asm',\n",
       " 'bmu',\n",
       " 'cck',\n",
       " 'cheslo',\n",
       " 'cok',\n",
       " 'cxr',\n",
       " 'cym',\n",
       " 'deu_east',\n",
       " 'deu_west',\n",
       " 'dma',\n",
       " 'eri_a_eth',\n",
       " 'flk',\n",
       " 'fro',\n",
       " 'gbg',\n",
       " 'gbm',\n",
       " 'gib',\n",
       " 'grl',\n",
       " 'hos',\n",
       " 'jey',\n",
       " 'kna',\n",
       " 'korea_union',\n",
       " 'kos',\n",
       " 'lie',\n",
       " 'mco',\n",
       " 'mhl',\n",
       " 'mnp',\n",
       " 'msr',\n",
       " 'nfk',\n",
       " 'niu',\n",
       " 'nru',\n",
       " 'pcn',\n",
       " 'plw',\n",
       " 'scg',\n",
       " 'scg_ex_kos',\n",
       " 'shn',\n",
       " 'sjm',\n",
       " 'smr',\n",
       " 'spm',\n",
       " 'stbar',\n",
       " 'stmar',\n",
       " 'tca',\n",
       " 'tkl',\n",
       " 'tuv',\n",
       " 'twn',\n",
       " 'ussr',\n",
       " 'vgb',\n",
       " 'wlf',\n",
       " 'yem_north',\n",
       " 'yem_south',\n",
       " 'yug'}"
      ]
     },
     "execution_count": 166,
     "metadata": {},
     "output_type": "execute_result"
    }
   ],
   "source": [
    "# geos in GW but not in UN\n",
    "\n",
    "set(geo_g).difference(set(geo_u))"
   ]
  },
  {
   "cell_type": "code",
   "execution_count": 161,
   "metadata": {
    "collapsed": true
   },
   "outputs": [],
   "source": [
    "dps = dps.reset_index()"
   ]
  },
  {
   "cell_type": "code",
   "execution_count": 169,
   "metadata": {
    "collapsed": false
   },
   "outputs": [
    {
     "data": {
      "text/html": [
       "<div>\n",
       "<table border=\"1\" class=\"dataframe\">\n",
       "  <thead>\n",
       "    <tr style=\"text-align: right;\">\n",
       "      <th></th>\n",
       "      <th>geo</th>\n",
       "      <th>year</th>\n",
       "      <th>population</th>\n",
       "    </tr>\n",
       "  </thead>\n",
       "  <tbody>\n",
       "    <tr>\n",
       "      <th>58622</th>\n",
       "      <td>nld_curacao</td>\n",
       "      <td>1950</td>\n",
       "      <td>100184.0</td>\n",
       "    </tr>\n",
       "    <tr>\n",
       "      <th>58623</th>\n",
       "      <td>nld_curacao</td>\n",
       "      <td>1951</td>\n",
       "      <td>104566.0</td>\n",
       "    </tr>\n",
       "    <tr>\n",
       "      <th>58624</th>\n",
       "      <td>nld_curacao</td>\n",
       "      <td>1952</td>\n",
       "      <td>108285.0</td>\n",
       "    </tr>\n",
       "    <tr>\n",
       "      <th>58625</th>\n",
       "      <td>nld_curacao</td>\n",
       "      <td>1953</td>\n",
       "      <td>111501.0</td>\n",
       "    </tr>\n",
       "    <tr>\n",
       "      <th>58626</th>\n",
       "      <td>nld_curacao</td>\n",
       "      <td>1954</td>\n",
       "      <td>114347.0</td>\n",
       "    </tr>\n",
       "  </tbody>\n",
       "</table>\n",
       "</div>"
      ],
      "text/plain": [
       "               geo  year  population\n",
       "58622  nld_curacao  1950    100184.0\n",
       "58623  nld_curacao  1951    104566.0\n",
       "58624  nld_curacao  1952    108285.0\n",
       "58625  nld_curacao  1953    111501.0\n",
       "58626  nld_curacao  1954    114347.0"
      ]
     },
     "execution_count": 169,
     "metadata": {},
     "output_type": "execute_result"
    }
   ],
   "source": [
    "dps[dps.geo == 'nld_curacao'].head()"
   ]
  },
  {
   "cell_type": "code",
   "execution_count": null,
   "metadata": {
    "collapsed": true
   },
   "outputs": [],
   "source": []
  },
  {
   "cell_type": "code",
   "execution_count": 171,
   "metadata": {
    "collapsed": false
   },
   "outputs": [],
   "source": [
    "# for ddf, we just use the geo domain\n",
    "geo[['country', 'name']].to_csv('../../ddf--entities--country.csv', index=False)"
   ]
  },
  {
   "cell_type": "code",
   "execution_count": null,
   "metadata": {
    "collapsed": true
   },
   "outputs": [],
   "source": []
  },
  {
   "cell_type": "code",
   "execution_count": null,
   "metadata": {
    "collapsed": true
   },
   "outputs": [],
   "source": []
  },
  {
   "cell_type": "markdown",
   "metadata": {},
   "source": [
    "# concept"
   ]
  },
  {
   "cell_type": "code",
   "execution_count": 174,
   "metadata": {
    "collapsed": true
   },
   "outputs": [],
   "source": [
    "cdf = dr.ddf_concepts('ddf--gapminder--life_expectancy')['concepts']"
   ]
  },
  {
   "cell_type": "code",
   "execution_count": 175,
   "metadata": {
    "collapsed": false
   },
   "outputs": [
    {
     "data": {
      "text/html": [
       "<div>\n",
       "<table border=\"1\" class=\"dataframe\">\n",
       "  <thead>\n",
       "    <tr style=\"text-align: right;\">\n",
       "      <th></th>\n",
       "      <th>concept</th>\n",
       "      <th>name</th>\n",
       "      <th>concept_type</th>\n",
       "      <th>source_url</th>\n",
       "    </tr>\n",
       "  </thead>\n",
       "  <tbody>\n",
       "    <tr>\n",
       "      <th>0</th>\n",
       "      <td>name</td>\n",
       "      <td>Name</td>\n",
       "      <td>string</td>\n",
       "      <td>NaN</td>\n",
       "    </tr>\n",
       "    <tr>\n",
       "      <th>1</th>\n",
       "      <td>time</td>\n",
       "      <td>Time</td>\n",
       "      <td>time</td>\n",
       "      <td>NaN</td>\n",
       "    </tr>\n",
       "    <tr>\n",
       "      <th>2</th>\n",
       "      <td>life_expectancy_at_birth_years</td>\n",
       "      <td>Life expectancy at birth (years)</td>\n",
       "      <td>measure</td>\n",
       "      <td>https://github.com/open-numbers/ddf--gapminder...</td>\n",
       "    </tr>\n",
       "    <tr>\n",
       "      <th>3</th>\n",
       "      <td>geo</td>\n",
       "      <td>Country</td>\n",
       "      <td>entity_domain</td>\n",
       "      <td>NaN</td>\n",
       "    </tr>\n",
       "    <tr>\n",
       "      <th>4</th>\n",
       "      <td>source_url</td>\n",
       "      <td>Source URL</td>\n",
       "      <td>string</td>\n",
       "      <td>NaN</td>\n",
       "    </tr>\n",
       "  </tbody>\n",
       "</table>\n",
       "</div>"
      ],
      "text/plain": [
       "                          concept                              name  \\\n",
       "0                            name                              Name   \n",
       "1                            time                              Time   \n",
       "2  life_expectancy_at_birth_years  Life expectancy at birth (years)   \n",
       "3                             geo                           Country   \n",
       "4                      source_url                        Source URL   \n",
       "\n",
       "    concept_type                                         source_url  \n",
       "0         string                                                NaN  \n",
       "1           time                                                NaN  \n",
       "2        measure  https://github.com/open-numbers/ddf--gapminder...  \n",
       "3  entity_domain                                                NaN  \n",
       "4         string                                                NaN  "
      ]
     },
     "execution_count": 175,
     "metadata": {},
     "output_type": "execute_result"
    }
   ],
   "source": [
    "cdf"
   ]
  },
  {
   "cell_type": "code",
   "execution_count": 176,
   "metadata": {
    "collapsed": true
   },
   "outputs": [],
   "source": [
    "cdf.ix[2] = ['population', 'Population, total', 'measure', 'https://github.com/open-numbers/ddf--gapminder--population']"
   ]
  },
  {
   "cell_type": "code",
   "execution_count": 185,
   "metadata": {
    "collapsed": true
   },
   "outputs": [],
   "source": [
    "cdf.ix[3, 'concept'] = 'country'\n",
    "cdf.ix[1, 'concept'] = 'year'"
   ]
  },
  {
   "cell_type": "code",
   "execution_count": 186,
   "metadata": {
    "collapsed": true
   },
   "outputs": [],
   "source": [
    "cdf.to_csv('../../ddf--concepts.csv', index=False)"
   ]
  },
  {
   "cell_type": "code",
   "execution_count": null,
   "metadata": {
    "collapsed": true
   },
   "outputs": [],
   "source": []
  },
  {
   "cell_type": "code",
   "execution_count": null,
   "metadata": {
    "collapsed": true
   },
   "outputs": [],
   "source": []
  },
  {
   "cell_type": "code",
   "execution_count": 178,
   "metadata": {
    "collapsed": true
   },
   "outputs": [],
   "source": [
    "from ddf_utils.index import create_index_file"
   ]
  },
  {
   "cell_type": "code",
   "execution_count": 187,
   "metadata": {
    "collapsed": false
   },
   "outputs": [
    {
     "data": {
      "text/html": [
       "<div>\n",
       "<table border=\"1\" class=\"dataframe\">\n",
       "  <thead>\n",
       "    <tr style=\"text-align: right;\">\n",
       "      <th></th>\n",
       "      <th>key</th>\n",
       "      <th>value</th>\n",
       "      <th>file</th>\n",
       "    </tr>\n",
       "  </thead>\n",
       "  <tbody>\n",
       "    <tr>\n",
       "      <th>0</th>\n",
       "      <td>concept</td>\n",
       "      <td>name</td>\n",
       "      <td>ddf--concepts.csv</td>\n",
       "    </tr>\n",
       "    <tr>\n",
       "      <th>1</th>\n",
       "      <td>concept</td>\n",
       "      <td>concept_type</td>\n",
       "      <td>ddf--concepts.csv</td>\n",
       "    </tr>\n",
       "    <tr>\n",
       "      <th>2</th>\n",
       "      <td>concept</td>\n",
       "      <td>source_url</td>\n",
       "      <td>ddf--concepts.csv</td>\n",
       "    </tr>\n",
       "    <tr>\n",
       "      <th>3</th>\n",
       "      <td>country,year</td>\n",
       "      <td>population</td>\n",
       "      <td>ddf--datapoints--population--by--country--year...</td>\n",
       "    </tr>\n",
       "    <tr>\n",
       "      <th>4</th>\n",
       "      <td>country</td>\n",
       "      <td>name</td>\n",
       "      <td>ddf--entities--country.csv</td>\n",
       "    </tr>\n",
       "  </tbody>\n",
       "</table>\n",
       "</div>"
      ],
      "text/plain": [
       "            key          value  \\\n",
       "0       concept           name   \n",
       "1       concept   concept_type   \n",
       "2       concept     source_url   \n",
       "3  country,year     population   \n",
       "4       country           name   \n",
       "\n",
       "                                                file  \n",
       "0                                  ddf--concepts.csv  \n",
       "1                                  ddf--concepts.csv  \n",
       "2                                  ddf--concepts.csv  \n",
       "3  ddf--datapoints--population--by--country--year...  \n",
       "4                         ddf--entities--country.csv  "
      ]
     },
     "execution_count": 187,
     "metadata": {},
     "output_type": "execute_result"
    }
   ],
   "source": [
    "create_index_file('../../')"
   ]
  },
  {
   "cell_type": "code",
   "execution_count": 188,
   "metadata": {
    "collapsed": false,
    "scrolled": false
   },
   "outputs": [
    {
     "name": "stdout",
     "output_type": "stream",
     "text": [
      "\u001b[1;39m[\r\n",
      "  \u001b[1;39m{}\u001b[0m\u001b[1;39m\r\n",
      "\u001b[1;39m]\u001b[0m\r\n"
     ]
    }
   ],
   "source": [
    "!validate-ddf ../../ | jq"
   ]
  },
  {
   "cell_type": "code",
   "execution_count": null,
   "metadata": {
    "collapsed": true
   },
   "outputs": [],
   "source": []
  }
 ],
 "metadata": {
  "kernelspec": {
   "display_name": "Python 3",
   "language": "python",
   "name": "python3"
  },
  "language_info": {
   "codemirror_mode": {
    "name": "ipython",
    "version": 3
   },
   "file_extension": ".py",
   "mimetype": "text/x-python",
   "name": "python",
   "nbconvert_exporter": "python",
   "pygments_lexer": "ipython3",
   "version": "3.5.2"
  }
 },
 "nbformat": 4,
 "nbformat_minor": 0
}
